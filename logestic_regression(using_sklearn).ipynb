{
  "nbformat": 4,
  "nbformat_minor": 0,
  "metadata": {
    "colab": {
      "name": "logestic_regression(using sklearn).ipynb",
      "provenance": [],
      "collapsed_sections": [],
      "authorship_tag": "ABX9TyOoJzLbLZurJhxhaMxwQsV1",
      "include_colab_link": true
    },
    "kernelspec": {
      "name": "python3",
      "display_name": "Python 3"
    },
    "language_info": {
      "name": "python"
    }
  },
  "cells": [
    {
      "cell_type": "markdown",
      "metadata": {
        "id": "view-in-github",
        "colab_type": "text"
      },
      "source": [
        "<a href=\"https://colab.research.google.com/github/sarthakpant772/MLnow_2.0/blob/main/logestic_regression(using_sklearn).ipynb\" target=\"_parent\"><img src=\"https://colab.research.google.com/assets/colab-badge.svg\" alt=\"Open In Colab\"/></a>"
      ]
    },
    {
      "cell_type": "markdown",
      "metadata": {
        "id": "GGkInWhjqZJ-"
      },
      "source": [
        "#Linking drive"
      ]
    },
    {
      "cell_type": "code",
      "metadata": {
        "colab": {
          "base_uri": "https://localhost:8080/"
        },
        "id": "0dgP3CLNp1Os",
        "outputId": "2fab672a-78c8-4a27-9771-a0a102e9d3ca"
      },
      "source": [
        "from google.colab import drive\n",
        "drive.mount('/content/drive') "
      ],
      "execution_count": 1,
      "outputs": [
        {
          "output_type": "stream",
          "text": [
            "Mounted at /content/drive\n"
          ],
          "name": "stdout"
        }
      ]
    },
    {
      "cell_type": "code",
      "metadata": {
        "colab": {
          "base_uri": "https://localhost:8080/"
        },
        "id": "BBvS8Y-9qEwO",
        "outputId": "035aae07-a608-4170-e220-d808e8a99845"
      },
      "source": [
        "cd  '/content/drive/MyDrive/mashine_learning_models/loan_prediction '"
      ],
      "execution_count": 2,
      "outputs": [
        {
          "output_type": "stream",
          "text": [
            "/content/drive/MyDrive/mashine_learning_models/loan_prediction \n"
          ],
          "name": "stdout"
        }
      ]
    },
    {
      "cell_type": "code",
      "metadata": {
        "colab": {
          "base_uri": "https://localhost:8080/"
        },
        "id": "Ne67yYlLqVG3",
        "outputId": "105b7029-89b6-4010-8081-085a1a4fa523"
      },
      "source": [
        "ls\n"
      ],
      "execution_count": 3,
      "outputs": [
        {
          "output_type": "stream",
          "text": [
            "dataset.xlsx  Untitled0.ipynb\n"
          ],
          "name": "stdout"
        }
      ]
    },
    {
      "cell_type": "markdown",
      "metadata": {
        "id": "vj8VoJNaqcyx"
      },
      "source": [
        "#Data Cleaning\n"
      ]
    },
    {
      "cell_type": "code",
      "metadata": {
        "id": "7JqyCFM0qWCe"
      },
      "source": [
        "import pandas as pd\n",
        "import numpy as np\n",
        "import os\n"
      ],
      "execution_count": 4,
      "outputs": []
    },
    {
      "cell_type": "code",
      "metadata": {
        "id": "VWqYA7I9qrZ9"
      },
      "source": [
        "loan_data=pd.read_excel('dataset.xlsx')"
      ],
      "execution_count": 61,
      "outputs": []
    },
    {
      "cell_type": "code",
      "metadata": {
        "colab": {
          "base_uri": "https://localhost:8080/",
          "height": 241
        },
        "id": "t8NRXt3QrOBv",
        "outputId": "546d2110-f6cb-4b0d-8730-6b42df1c254c"
      },
      "source": [
        "loan_data.head()"
      ],
      "execution_count": 62,
      "outputs": [
        {
          "output_type": "execute_result",
          "data": {
            "text/html": [
              "<div>\n",
              "<style scoped>\n",
              "    .dataframe tbody tr th:only-of-type {\n",
              "        vertical-align: middle;\n",
              "    }\n",
              "\n",
              "    .dataframe tbody tr th {\n",
              "        vertical-align: top;\n",
              "    }\n",
              "\n",
              "    .dataframe thead th {\n",
              "        text-align: right;\n",
              "    }\n",
              "</style>\n",
              "<table border=\"1\" class=\"dataframe\">\n",
              "  <thead>\n",
              "    <tr style=\"text-align: right;\">\n",
              "      <th></th>\n",
              "      <th>Loan_ID</th>\n",
              "      <th>Gender</th>\n",
              "      <th>Married</th>\n",
              "      <th>Dependents</th>\n",
              "      <th>Education</th>\n",
              "      <th>Self_Employed</th>\n",
              "      <th>ApplicantIncome</th>\n",
              "      <th>CoapplicantIncome</th>\n",
              "      <th>LoanAmount</th>\n",
              "      <th>Loan_Amount_Term</th>\n",
              "      <th>Credit_History</th>\n",
              "      <th>Property_Area</th>\n",
              "      <th>Loan_Status</th>\n",
              "    </tr>\n",
              "  </thead>\n",
              "  <tbody>\n",
              "    <tr>\n",
              "      <th>0</th>\n",
              "      <td>LP001002</td>\n",
              "      <td>Male</td>\n",
              "      <td>Yes</td>\n",
              "      <td>1</td>\n",
              "      <td>Graduate</td>\n",
              "      <td>No</td>\n",
              "      <td>5849</td>\n",
              "      <td>0.0</td>\n",
              "      <td>NaN</td>\n",
              "      <td>360.0</td>\n",
              "      <td>1.0</td>\n",
              "      <td>Urban</td>\n",
              "      <td>Y</td>\n",
              "    </tr>\n",
              "    <tr>\n",
              "      <th>1</th>\n",
              "      <td>LP001003</td>\n",
              "      <td>Male</td>\n",
              "      <td>Yes</td>\n",
              "      <td>0</td>\n",
              "      <td>Graduate</td>\n",
              "      <td>No</td>\n",
              "      <td>4583</td>\n",
              "      <td>1508.0</td>\n",
              "      <td>128.0</td>\n",
              "      <td>360.0</td>\n",
              "      <td>1.0</td>\n",
              "      <td>Rural</td>\n",
              "      <td>N</td>\n",
              "    </tr>\n",
              "    <tr>\n",
              "      <th>2</th>\n",
              "      <td>LP001005</td>\n",
              "      <td>Male</td>\n",
              "      <td>Yes</td>\n",
              "      <td>0</td>\n",
              "      <td>Graduate</td>\n",
              "      <td>Yes</td>\n",
              "      <td>3000</td>\n",
              "      <td>0.0</td>\n",
              "      <td>66.0</td>\n",
              "      <td>360.0</td>\n",
              "      <td>1.0</td>\n",
              "      <td>Urban</td>\n",
              "      <td>Y</td>\n",
              "    </tr>\n",
              "    <tr>\n",
              "      <th>3</th>\n",
              "      <td>LP001006</td>\n",
              "      <td>Male</td>\n",
              "      <td>No</td>\n",
              "      <td>0</td>\n",
              "      <td>Not Graduate</td>\n",
              "      <td>No</td>\n",
              "      <td>2583</td>\n",
              "      <td>2358.0</td>\n",
              "      <td>120.0</td>\n",
              "      <td>360.0</td>\n",
              "      <td>1.0</td>\n",
              "      <td>Urban</td>\n",
              "      <td>Y</td>\n",
              "    </tr>\n",
              "    <tr>\n",
              "      <th>4</th>\n",
              "      <td>LP001008</td>\n",
              "      <td>Male</td>\n",
              "      <td>NaN</td>\n",
              "      <td>NaN</td>\n",
              "      <td>Graduate</td>\n",
              "      <td>No</td>\n",
              "      <td>6000</td>\n",
              "      <td>0.0</td>\n",
              "      <td>141.0</td>\n",
              "      <td>360.0</td>\n",
              "      <td>1.0</td>\n",
              "      <td>Urban</td>\n",
              "      <td>Y</td>\n",
              "    </tr>\n",
              "  </tbody>\n",
              "</table>\n",
              "</div>"
            ],
            "text/plain": [
              "    Loan_ID Gender Married  ... Credit_History Property_Area Loan_Status\n",
              "0  LP001002   Male     Yes  ...            1.0         Urban           Y\n",
              "1  LP001003   Male     Yes  ...            1.0         Rural           N\n",
              "2  LP001005   Male     Yes  ...            1.0         Urban           Y\n",
              "3  LP001006   Male      No  ...            1.0         Urban           Y\n",
              "4  LP001008   Male     NaN  ...            1.0         Urban           Y\n",
              "\n",
              "[5 rows x 13 columns]"
            ]
          },
          "metadata": {
            "tags": []
          },
          "execution_count": 62
        }
      ]
    },
    {
      "cell_type": "code",
      "metadata": {
        "colab": {
          "base_uri": "https://localhost:8080/"
        },
        "id": "h44aW7HnrfOG",
        "outputId": "8f78eb8e-14bc-4405-b33d-895157857895"
      },
      "source": [
        "for i in loan_data:\n",
        "  print(i)"
      ],
      "execution_count": 10,
      "outputs": [
        {
          "output_type": "stream",
          "text": [
            "Loan_ID\n",
            "Gender\n",
            "Married\n",
            "Dependents\n",
            "Education\n",
            "Self_Employed\n",
            "ApplicantIncome\n",
            "CoapplicantIncome\n",
            "LoanAmount\n",
            "Loan_Amount_Term\n",
            "Credit_History\n",
            "Property_Area\n",
            "Loan_Status\n"
          ],
          "name": "stdout"
        }
      ]
    },
    {
      "cell_type": "code",
      "metadata": {
        "colab": {
          "base_uri": "https://localhost:8080/"
        },
        "id": "kHRW_hYkrrxu",
        "outputId": "9596d6fd-b701-472f-da83-2ffa97b364ab"
      },
      "source": [
        "print(f'Married:{loan_data.Married.unique()}')\n",
        "print(f'Dependents:{loan_data.Dependents.unique()}')\n",
        "print(f'Education:{loan_data.Education.unique()}')\n",
        "print(f'self Employd:{loan_data.Self_Employed.unique()}')"
      ],
      "execution_count": 72,
      "outputs": [
        {
          "output_type": "stream",
          "text": [
            "Married:[1. 0.]\n",
            "Dependents:[1 0 2 4]\n",
            "Education:[1 0]\n",
            "self Employd:[0. 1.]\n"
          ],
          "name": "stdout"
        }
      ]
    },
    {
      "cell_type": "code",
      "metadata": {
        "id": "0Sg752UdsRLm"
      },
      "source": [
        "loan_data.fillna(0,inplace=True)"
      ],
      "execution_count": 71,
      "outputs": []
    },
    {
      "cell_type": "code",
      "metadata": {
        "id": "oI4x5SlYtbM-"
      },
      "source": [
        "loan_data['Married'] = loan_data['Married'].apply({'Yes':1, 'No':0}.get)"
      ],
      "execution_count": 65,
      "outputs": []
    },
    {
      "cell_type": "code",
      "metadata": {
        "id": "9RqRQrPDtgK_"
      },
      "source": [
        "loan_data['Education'] = loan_data['Education'].apply({'Graduate':1, 'Not Graduate':0}.get)\n",
        "loan_data['Self_Employed'] = loan_data['Self_Employed'].apply({'No':0, 'Yes':1}.get)\n"
      ],
      "execution_count": 66,
      "outputs": []
    },
    {
      "cell_type": "code",
      "metadata": {
        "id": "cFlMv-X0wb1Q"
      },
      "source": [
        "loan_data['Loan_Status'] = loan_data['Loan_Status'].apply({'Y':1,'N':0}.get)"
      ],
      "execution_count": 67,
      "outputs": []
    },
    {
      "cell_type": "code",
      "metadata": {
        "id": "YcB_4sT132F_"
      },
      "source": [
        "loan_data['Dependents'] = loan_data['Dependents'].apply({'3+':4, 1:1,2:2,0:0}.get)"
      ],
      "execution_count": 68,
      "outputs": []
    },
    {
      "cell_type": "code",
      "metadata": {
        "colab": {
          "base_uri": "https://localhost:8080/",
          "height": 224
        },
        "id": "J585wNuqulmA",
        "outputId": "0060ce68-ba6e-4bbd-a1a0-a3452574505c"
      },
      "source": [
        "loan_data.head()"
      ],
      "execution_count": 69,
      "outputs": [
        {
          "output_type": "execute_result",
          "data": {
            "text/html": [
              "<div>\n",
              "<style scoped>\n",
              "    .dataframe tbody tr th:only-of-type {\n",
              "        vertical-align: middle;\n",
              "    }\n",
              "\n",
              "    .dataframe tbody tr th {\n",
              "        vertical-align: top;\n",
              "    }\n",
              "\n",
              "    .dataframe thead th {\n",
              "        text-align: right;\n",
              "    }\n",
              "</style>\n",
              "<table border=\"1\" class=\"dataframe\">\n",
              "  <thead>\n",
              "    <tr style=\"text-align: right;\">\n",
              "      <th></th>\n",
              "      <th>Loan_ID</th>\n",
              "      <th>Gender</th>\n",
              "      <th>Married</th>\n",
              "      <th>Dependents</th>\n",
              "      <th>Education</th>\n",
              "      <th>Self_Employed</th>\n",
              "      <th>ApplicantIncome</th>\n",
              "      <th>CoapplicantIncome</th>\n",
              "      <th>LoanAmount</th>\n",
              "      <th>Loan_Amount_Term</th>\n",
              "      <th>Credit_History</th>\n",
              "      <th>Property_Area</th>\n",
              "      <th>Loan_Status</th>\n",
              "    </tr>\n",
              "  </thead>\n",
              "  <tbody>\n",
              "    <tr>\n",
              "      <th>0</th>\n",
              "      <td>LP001002</td>\n",
              "      <td>Male</td>\n",
              "      <td>1.0</td>\n",
              "      <td>1</td>\n",
              "      <td>1</td>\n",
              "      <td>0.0</td>\n",
              "      <td>5849</td>\n",
              "      <td>0.0</td>\n",
              "      <td>0.0</td>\n",
              "      <td>360.0</td>\n",
              "      <td>1.0</td>\n",
              "      <td>Urban</td>\n",
              "      <td>1</td>\n",
              "    </tr>\n",
              "    <tr>\n",
              "      <th>1</th>\n",
              "      <td>LP001003</td>\n",
              "      <td>Male</td>\n",
              "      <td>1.0</td>\n",
              "      <td>0</td>\n",
              "      <td>1</td>\n",
              "      <td>0.0</td>\n",
              "      <td>4583</td>\n",
              "      <td>1508.0</td>\n",
              "      <td>128.0</td>\n",
              "      <td>360.0</td>\n",
              "      <td>1.0</td>\n",
              "      <td>Rural</td>\n",
              "      <td>0</td>\n",
              "    </tr>\n",
              "    <tr>\n",
              "      <th>2</th>\n",
              "      <td>LP001005</td>\n",
              "      <td>Male</td>\n",
              "      <td>1.0</td>\n",
              "      <td>0</td>\n",
              "      <td>1</td>\n",
              "      <td>1.0</td>\n",
              "      <td>3000</td>\n",
              "      <td>0.0</td>\n",
              "      <td>66.0</td>\n",
              "      <td>360.0</td>\n",
              "      <td>1.0</td>\n",
              "      <td>Urban</td>\n",
              "      <td>1</td>\n",
              "    </tr>\n",
              "    <tr>\n",
              "      <th>3</th>\n",
              "      <td>LP001006</td>\n",
              "      <td>Male</td>\n",
              "      <td>0.0</td>\n",
              "      <td>0</td>\n",
              "      <td>0</td>\n",
              "      <td>0.0</td>\n",
              "      <td>2583</td>\n",
              "      <td>2358.0</td>\n",
              "      <td>120.0</td>\n",
              "      <td>360.0</td>\n",
              "      <td>1.0</td>\n",
              "      <td>Urban</td>\n",
              "      <td>1</td>\n",
              "    </tr>\n",
              "    <tr>\n",
              "      <th>4</th>\n",
              "      <td>LP001008</td>\n",
              "      <td>Male</td>\n",
              "      <td>NaN</td>\n",
              "      <td>0</td>\n",
              "      <td>1</td>\n",
              "      <td>0.0</td>\n",
              "      <td>6000</td>\n",
              "      <td>0.0</td>\n",
              "      <td>141.0</td>\n",
              "      <td>360.0</td>\n",
              "      <td>1.0</td>\n",
              "      <td>Urban</td>\n",
              "      <td>1</td>\n",
              "    </tr>\n",
              "  </tbody>\n",
              "</table>\n",
              "</div>"
            ],
            "text/plain": [
              "    Loan_ID Gender  Married  ...  Credit_History  Property_Area  Loan_Status\n",
              "0  LP001002   Male      1.0  ...             1.0          Urban            1\n",
              "1  LP001003   Male      1.0  ...             1.0          Rural            0\n",
              "2  LP001005   Male      1.0  ...             1.0          Urban            1\n",
              "3  LP001006   Male      0.0  ...             1.0          Urban            1\n",
              "4  LP001008   Male      NaN  ...             1.0          Urban            1\n",
              "\n",
              "[5 rows x 13 columns]"
            ]
          },
          "metadata": {
            "tags": []
          },
          "execution_count": 69
        }
      ]
    },
    {
      "cell_type": "code",
      "metadata": {
        "colab": {
          "base_uri": "https://localhost:8080/",
          "height": 439
        },
        "id": "EGq847o1u6eg",
        "outputId": "2a3e9729-7474-4648-adb9-9e892a63c383"
      },
      "source": [
        "loan_data\n"
      ],
      "execution_count": 49,
      "outputs": [
        {
          "output_type": "execute_result",
          "data": {
            "text/html": [
              "<div>\n",
              "<style scoped>\n",
              "    .dataframe tbody tr th:only-of-type {\n",
              "        vertical-align: middle;\n",
              "    }\n",
              "\n",
              "    .dataframe tbody tr th {\n",
              "        vertical-align: top;\n",
              "    }\n",
              "\n",
              "    .dataframe thead th {\n",
              "        text-align: right;\n",
              "    }\n",
              "</style>\n",
              "<table border=\"1\" class=\"dataframe\">\n",
              "  <thead>\n",
              "    <tr style=\"text-align: right;\">\n",
              "      <th></th>\n",
              "      <th>Loan_ID</th>\n",
              "      <th>Gender</th>\n",
              "      <th>Married</th>\n",
              "      <th>Dependents</th>\n",
              "      <th>Education</th>\n",
              "      <th>Self_Employed</th>\n",
              "      <th>ApplicantIncome</th>\n",
              "      <th>CoapplicantIncome</th>\n",
              "      <th>LoanAmount</th>\n",
              "      <th>Loan_Amount_Term</th>\n",
              "      <th>Credit_History</th>\n",
              "      <th>Property_Area</th>\n",
              "      <th>Loan_Status</th>\n",
              "    </tr>\n",
              "  </thead>\n",
              "  <tbody>\n",
              "    <tr>\n",
              "      <th>0</th>\n",
              "      <td>LP001002</td>\n",
              "      <td>Male</td>\n",
              "      <td>1.0</td>\n",
              "      <td>1</td>\n",
              "      <td>1</td>\n",
              "      <td>0.0</td>\n",
              "      <td>5849</td>\n",
              "      <td>0.0</td>\n",
              "      <td>0.0</td>\n",
              "      <td>360.0</td>\n",
              "      <td>1.0</td>\n",
              "      <td>Urban</td>\n",
              "      <td>1</td>\n",
              "    </tr>\n",
              "    <tr>\n",
              "      <th>1</th>\n",
              "      <td>LP001003</td>\n",
              "      <td>Male</td>\n",
              "      <td>1.0</td>\n",
              "      <td>0</td>\n",
              "      <td>1</td>\n",
              "      <td>0.0</td>\n",
              "      <td>4583</td>\n",
              "      <td>1508.0</td>\n",
              "      <td>128.0</td>\n",
              "      <td>360.0</td>\n",
              "      <td>1.0</td>\n",
              "      <td>Rural</td>\n",
              "      <td>0</td>\n",
              "    </tr>\n",
              "    <tr>\n",
              "      <th>2</th>\n",
              "      <td>LP001005</td>\n",
              "      <td>Male</td>\n",
              "      <td>1.0</td>\n",
              "      <td>0</td>\n",
              "      <td>1</td>\n",
              "      <td>1.0</td>\n",
              "      <td>3000</td>\n",
              "      <td>0.0</td>\n",
              "      <td>66.0</td>\n",
              "      <td>360.0</td>\n",
              "      <td>1.0</td>\n",
              "      <td>Urban</td>\n",
              "      <td>1</td>\n",
              "    </tr>\n",
              "    <tr>\n",
              "      <th>3</th>\n",
              "      <td>LP001006</td>\n",
              "      <td>Male</td>\n",
              "      <td>0.0</td>\n",
              "      <td>0</td>\n",
              "      <td>0</td>\n",
              "      <td>0.0</td>\n",
              "      <td>2583</td>\n",
              "      <td>2358.0</td>\n",
              "      <td>120.0</td>\n",
              "      <td>360.0</td>\n",
              "      <td>1.0</td>\n",
              "      <td>Urban</td>\n",
              "      <td>1</td>\n",
              "    </tr>\n",
              "    <tr>\n",
              "      <th>4</th>\n",
              "      <td>LP001008</td>\n",
              "      <td>Male</td>\n",
              "      <td>0.0</td>\n",
              "      <td>0</td>\n",
              "      <td>1</td>\n",
              "      <td>0.0</td>\n",
              "      <td>6000</td>\n",
              "      <td>0.0</td>\n",
              "      <td>141.0</td>\n",
              "      <td>360.0</td>\n",
              "      <td>1.0</td>\n",
              "      <td>Urban</td>\n",
              "      <td>1</td>\n",
              "    </tr>\n",
              "    <tr>\n",
              "      <th>...</th>\n",
              "      <td>...</td>\n",
              "      <td>...</td>\n",
              "      <td>...</td>\n",
              "      <td>...</td>\n",
              "      <td>...</td>\n",
              "      <td>...</td>\n",
              "      <td>...</td>\n",
              "      <td>...</td>\n",
              "      <td>...</td>\n",
              "      <td>...</td>\n",
              "      <td>...</td>\n",
              "      <td>...</td>\n",
              "      <td>...</td>\n",
              "    </tr>\n",
              "    <tr>\n",
              "      <th>609</th>\n",
              "      <td>LP002978</td>\n",
              "      <td>Female</td>\n",
              "      <td>0.0</td>\n",
              "      <td>0</td>\n",
              "      <td>1</td>\n",
              "      <td>0.0</td>\n",
              "      <td>2900</td>\n",
              "      <td>0.0</td>\n",
              "      <td>71.0</td>\n",
              "      <td>360.0</td>\n",
              "      <td>1.0</td>\n",
              "      <td>Rural</td>\n",
              "      <td>1</td>\n",
              "    </tr>\n",
              "    <tr>\n",
              "      <th>610</th>\n",
              "      <td>LP002979</td>\n",
              "      <td>Male</td>\n",
              "      <td>1.0</td>\n",
              "      <td>3+</td>\n",
              "      <td>1</td>\n",
              "      <td>0.0</td>\n",
              "      <td>4106</td>\n",
              "      <td>0.0</td>\n",
              "      <td>40.0</td>\n",
              "      <td>180.0</td>\n",
              "      <td>1.0</td>\n",
              "      <td>Rural</td>\n",
              "      <td>1</td>\n",
              "    </tr>\n",
              "    <tr>\n",
              "      <th>611</th>\n",
              "      <td>LP002983</td>\n",
              "      <td>Male</td>\n",
              "      <td>1.0</td>\n",
              "      <td>1</td>\n",
              "      <td>1</td>\n",
              "      <td>0.0</td>\n",
              "      <td>8072</td>\n",
              "      <td>240.0</td>\n",
              "      <td>253.0</td>\n",
              "      <td>360.0</td>\n",
              "      <td>1.0</td>\n",
              "      <td>Urban</td>\n",
              "      <td>1</td>\n",
              "    </tr>\n",
              "    <tr>\n",
              "      <th>612</th>\n",
              "      <td>LP002984</td>\n",
              "      <td>Male</td>\n",
              "      <td>1.0</td>\n",
              "      <td>2</td>\n",
              "      <td>1</td>\n",
              "      <td>0.0</td>\n",
              "      <td>7583</td>\n",
              "      <td>0.0</td>\n",
              "      <td>187.0</td>\n",
              "      <td>360.0</td>\n",
              "      <td>1.0</td>\n",
              "      <td>Urban</td>\n",
              "      <td>1</td>\n",
              "    </tr>\n",
              "    <tr>\n",
              "      <th>613</th>\n",
              "      <td>LP002990</td>\n",
              "      <td>Female</td>\n",
              "      <td>0.0</td>\n",
              "      <td>0</td>\n",
              "      <td>1</td>\n",
              "      <td>1.0</td>\n",
              "      <td>4583</td>\n",
              "      <td>0.0</td>\n",
              "      <td>133.0</td>\n",
              "      <td>360.0</td>\n",
              "      <td>0.0</td>\n",
              "      <td>Semiurban</td>\n",
              "      <td>0</td>\n",
              "    </tr>\n",
              "  </tbody>\n",
              "</table>\n",
              "<p>614 rows × 13 columns</p>\n",
              "</div>"
            ],
            "text/plain": [
              "      Loan_ID  Gender  Married  ... Credit_History  Property_Area  Loan_Status\n",
              "0    LP001002    Male      1.0  ...            1.0          Urban            1\n",
              "1    LP001003    Male      1.0  ...            1.0          Rural            0\n",
              "2    LP001005    Male      1.0  ...            1.0          Urban            1\n",
              "3    LP001006    Male      0.0  ...            1.0          Urban            1\n",
              "4    LP001008    Male      0.0  ...            1.0          Urban            1\n",
              "..        ...     ...      ...  ...            ...            ...          ...\n",
              "609  LP002978  Female      0.0  ...            1.0          Rural            1\n",
              "610  LP002979    Male      1.0  ...            1.0          Rural            1\n",
              "611  LP002983    Male      1.0  ...            1.0          Urban            1\n",
              "612  LP002984    Male      1.0  ...            1.0          Urban            1\n",
              "613  LP002990  Female      0.0  ...            0.0      Semiurban            0\n",
              "\n",
              "[614 rows x 13 columns]"
            ]
          },
          "metadata": {
            "tags": []
          },
          "execution_count": 49
        }
      ]
    },
    {
      "cell_type": "code",
      "metadata": {
        "id": "eevIJeyFvNtB"
      },
      "source": [
        "loan_dataup= loan_data[['Married','Dependents','Education','Self_Employed','ApplicantIncome','LoanAmount','Credit_History','Loan_Status']]"
      ],
      "execution_count": 73,
      "outputs": []
    },
    {
      "cell_type": "code",
      "metadata": {
        "colab": {
          "base_uri": "https://localhost:8080/",
          "height": 204
        },
        "id": "rKnk5QkZwB6w",
        "outputId": "a94f568d-c992-453b-fe50-10c6bf7c881b"
      },
      "source": [
        "loan_dataup.head()"
      ],
      "execution_count": 74,
      "outputs": [
        {
          "output_type": "execute_result",
          "data": {
            "text/html": [
              "<div>\n",
              "<style scoped>\n",
              "    .dataframe tbody tr th:only-of-type {\n",
              "        vertical-align: middle;\n",
              "    }\n",
              "\n",
              "    .dataframe tbody tr th {\n",
              "        vertical-align: top;\n",
              "    }\n",
              "\n",
              "    .dataframe thead th {\n",
              "        text-align: right;\n",
              "    }\n",
              "</style>\n",
              "<table border=\"1\" class=\"dataframe\">\n",
              "  <thead>\n",
              "    <tr style=\"text-align: right;\">\n",
              "      <th></th>\n",
              "      <th>Married</th>\n",
              "      <th>Dependents</th>\n",
              "      <th>Education</th>\n",
              "      <th>Self_Employed</th>\n",
              "      <th>ApplicantIncome</th>\n",
              "      <th>LoanAmount</th>\n",
              "      <th>Credit_History</th>\n",
              "      <th>Loan_Status</th>\n",
              "    </tr>\n",
              "  </thead>\n",
              "  <tbody>\n",
              "    <tr>\n",
              "      <th>0</th>\n",
              "      <td>1.0</td>\n",
              "      <td>1</td>\n",
              "      <td>1</td>\n",
              "      <td>0.0</td>\n",
              "      <td>5849</td>\n",
              "      <td>0.0</td>\n",
              "      <td>1.0</td>\n",
              "      <td>1</td>\n",
              "    </tr>\n",
              "    <tr>\n",
              "      <th>1</th>\n",
              "      <td>1.0</td>\n",
              "      <td>0</td>\n",
              "      <td>1</td>\n",
              "      <td>0.0</td>\n",
              "      <td>4583</td>\n",
              "      <td>128.0</td>\n",
              "      <td>1.0</td>\n",
              "      <td>0</td>\n",
              "    </tr>\n",
              "    <tr>\n",
              "      <th>2</th>\n",
              "      <td>1.0</td>\n",
              "      <td>0</td>\n",
              "      <td>1</td>\n",
              "      <td>1.0</td>\n",
              "      <td>3000</td>\n",
              "      <td>66.0</td>\n",
              "      <td>1.0</td>\n",
              "      <td>1</td>\n",
              "    </tr>\n",
              "    <tr>\n",
              "      <th>3</th>\n",
              "      <td>0.0</td>\n",
              "      <td>0</td>\n",
              "      <td>0</td>\n",
              "      <td>0.0</td>\n",
              "      <td>2583</td>\n",
              "      <td>120.0</td>\n",
              "      <td>1.0</td>\n",
              "      <td>1</td>\n",
              "    </tr>\n",
              "    <tr>\n",
              "      <th>4</th>\n",
              "      <td>0.0</td>\n",
              "      <td>0</td>\n",
              "      <td>1</td>\n",
              "      <td>0.0</td>\n",
              "      <td>6000</td>\n",
              "      <td>141.0</td>\n",
              "      <td>1.0</td>\n",
              "      <td>1</td>\n",
              "    </tr>\n",
              "  </tbody>\n",
              "</table>\n",
              "</div>"
            ],
            "text/plain": [
              "   Married  Dependents  Education  ...  LoanAmount  Credit_History  Loan_Status\n",
              "0      1.0           1          1  ...         0.0             1.0            1\n",
              "1      1.0           0          1  ...       128.0             1.0            0\n",
              "2      1.0           0          1  ...        66.0             1.0            1\n",
              "3      0.0           0          0  ...       120.0             1.0            1\n",
              "4      0.0           0          1  ...       141.0             1.0            1\n",
              "\n",
              "[5 rows x 8 columns]"
            ]
          },
          "metadata": {
            "tags": []
          },
          "execution_count": 74
        }
      ]
    },
    {
      "cell_type": "code",
      "metadata": {
        "id": "f4cx5heuwHW_"
      },
      "source": [
        "loan_dataup.to_csv('cleanedData.csv')"
      ],
      "execution_count": 75,
      "outputs": []
    },
    {
      "cell_type": "markdown",
      "metadata": {
        "id": "BJaMFaFcw-jE"
      },
      "source": [
        "#EDA"
      ]
    },
    {
      "cell_type": "code",
      "metadata": {
        "colab": {
          "base_uri": "https://localhost:8080/",
          "height": 153
        },
        "id": "JwSed41Qw16x",
        "outputId": "2ba577c8-65f2-41d8-dc2e-80c8f0647632"
      },
      "source": [
        "import matplotlib.pyplot as plt\n",
        "import seaborn as sns\n",
        "sns.palplot(sns.color_palette(\"PuOr\"))\n",
        "pal = sns.color_palette('PuOr', 6)\n",
        "pal.as_hex()\n",
        "plt.style.use(['seaborn'])\n",
        "sns_colors = [\"#c6690c\", \"#664697\"]\n",
        "sns.set_palette(sns_colors)\n",
        "sns.palplot(sns.color_palette(sns_colors))"
      ],
      "execution_count": 76,
      "outputs": [
        {
          "output_type": "display_data",
          "data": {
            "image/png": "[encoded data removed]",
            "text/plain": [
              "<Figure size 432x72 with 1 Axes>"
            ]
          },
          "metadata": {
            "tags": []
          }
        },
        {
          "output_type": "display_data",
          "data": {
            "image/png": "[encoded data removed]",
            "text/plain": [
              "<Figure size 144x72 with 1 Axes>"
            ]
          },
          "metadata": {
            "tags": []
          }
        }
      ]
    },
    {
      "cell_type": "code",
      "metadata": {
        "colab": {
          "base_uri": "https://localhost:8080/"
        },
        "id": "lnWzXyDF2sKC",
        "outputId": "a53cb8b9-5543-4721-9732-cd7fefa77297"
      },
      "source": [
        "print(loan_dataup.columns)"
      ],
      "execution_count": 77,
      "outputs": [
        {
          "output_type": "stream",
          "text": [
            "Index(['Married', 'Dependents', 'Education', 'Self_Employed',\n",
            "       'ApplicantIncome', 'LoanAmount', 'Credit_History', 'Loan_Status'],\n",
            "      dtype='object')\n"
          ],
          "name": "stdout"
        }
      ]
    },
    {
      "cell_type": "code",
      "metadata": {
        "colab": {
          "base_uri": "https://localhost:8080/",
          "height": 1000
        },
        "id": "cmlzkEYO22Ok",
        "outputId": "0f620ace-4d90-4f69-bf49-66ea860af6c2"
      },
      "source": [
        "sns.pairplot(loan_dataup,\n",
        "              x_vars=['Married', 'Dependents', 'Education', 'Self_Employed','ApplicantIncome', 'LoanAmount', 'Credit_History', 'Loan_Status'],\n",
        "              y_vars=['Married', 'Dependents', 'Education', 'Self_Employed','ApplicantIncome', 'LoanAmount', 'Credit_History'],\n",
        "              diag_kind='kde')"
      ],
      "execution_count": 78,
      "outputs": [
        {
          "output_type": "execute_result",
          "data": {
            "text/plain": [
              "<seaborn.axisgrid.PairGrid at 0x7f6b4d261290>"
            ]
          },
          "metadata": {
            "tags": []
          },
          "execution_count": 78
        },
        {
          "output_type": "display_data",
          "data": {
            "image/png": "[encoded data removed]",
            "text/plain": [
              "<Figure size 1440x1260 with 63 Axes>"
            ]
          },
          "metadata": {
            "tags": []
          }
        }
      ]
    },
    {
      "cell_type": "markdown",
      "metadata": {
        "id": "FsyIJnRB5R1Q"
      },
      "source": [
        "#Analysis form the data.\n",
        "\n",
        "### Q1) Do applicant income matter?\n",
        "```Yes it do, as we can see that the success rate of getting a loan is greater beterrn 20K to 60K and married at same time ```\n"
      ]
    },
    {
      "cell_type": "markdown",
      "metadata": {
        "id": "LxWPIksh5Oul"
      },
      "source": [
        "#Data spliting \n"
      ]
    },
    {
      "cell_type": "code",
      "metadata": {
        "id": "wVqILtK73Ztg"
      },
      "source": [
        "trainData=loan_dataup.sample(frac=0.8 , random_state=0)\n",
        "testData=loan_dataup.drop(trainData.index)"
      ],
      "execution_count": 79,
      "outputs": []
    },
    {
      "cell_type": "code",
      "metadata": {
        "colab": {
          "base_uri": "https://localhost:8080/"
        },
        "id": "ulKE8Oh97R8t",
        "outputId": "ef49778e-a194-42a3-8d94-bc9213c24e8a"
      },
      "source": [
        "print(trainData.head())\n",
        "print(testData.head())"
      ],
      "execution_count": 81,
      "outputs": [
        {
          "output_type": "stream",
          "text": [
            "     Married  Dependents  Education  ...  LoanAmount  Credit_History  Loan_Status\n",
            "454      0.0           0          1  ...        84.0             1.0            1\n",
            "52       0.0           0          1  ...       112.0             1.0            0\n",
            "536      1.0           0          1  ...       324.0             1.0            1\n",
            "469      1.0           0          1  ...       110.0             1.0            0\n",
            "55       1.0           2          1  ...        97.0             1.0            1\n",
            "\n",
            "[5 rows x 8 columns]\n",
            "    Married  Dependents  Education  ...  LoanAmount  Credit_History  Loan_Status\n",
            "3       0.0           0          0  ...       120.0             1.0            1\n",
            "9       1.0           1          1  ...       349.0             1.0            0\n",
            "11      1.0           2          1  ...       109.0             1.0            1\n",
            "19      1.0           0          1  ...       115.0             1.0            1\n",
            "23      1.0           2          0  ...       112.0             0.0            0\n",
            "\n",
            "[5 rows x 8 columns]\n"
          ],
          "name": "stdout"
        }
      ]
    },
    {
      "cell_type": "code",
      "metadata": {
        "colab": {
          "base_uri": "https://localhost:8080/"
        },
        "id": "dgJRup5P7alL",
        "outputId": "1185238c-e5da-4094-b66f-e996f2f1a92a"
      },
      "source": [
        "x_train=trainData.copy()\n",
        "x_test=testData.copy()\n",
        "\n",
        "print(x_train)\n",
        "print(x_test)"
      ],
      "execution_count": 92,
      "outputs": [
        {
          "output_type": "stream",
          "text": [
            "     Married  Dependents  Education  ...  LoanAmount  Credit_History  Loan_Status\n",
            "454      0.0           0          1  ...        84.0             1.0            1\n",
            "52       0.0           0          1  ...       112.0             1.0            0\n",
            "536      1.0           0          1  ...       324.0             1.0            1\n",
            "469      1.0           0          1  ...       110.0             1.0            0\n",
            "55       1.0           2          1  ...        97.0             1.0            1\n",
            "..       ...         ...        ...  ...         ...             ...          ...\n",
            "451      1.0           2          0  ...        60.0             0.0            1\n",
            "260      1.0           1          1  ...       330.0             0.0            1\n",
            "352      1.0           4          1  ...        95.0             1.0            1\n",
            "270      0.0           0          1  ...        30.0             1.0            1\n",
            "317      1.0           0          1  ...        88.0             0.0            1\n",
            "\n",
            "[491 rows x 8 columns]\n",
            "     Married  Dependents  Education  ...  LoanAmount  Credit_History  Loan_Status\n",
            "3        0.0           0          0  ...       120.0             1.0            1\n",
            "9        1.0           1          1  ...       349.0             1.0            0\n",
            "11       1.0           2          1  ...       109.0             1.0            1\n",
            "19       1.0           0          1  ...       115.0             1.0            1\n",
            "23       1.0           2          0  ...       112.0             0.0            0\n",
            "..       ...         ...        ...  ...         ...             ...          ...\n",
            "586      1.0           0          1  ...       104.0             1.0            1\n",
            "594      1.0           0          1  ...       260.0             1.0            1\n",
            "599      1.0           2          1  ...       192.0             1.0            1\n",
            "600      0.0           4          1  ...       350.0             0.0            0\n",
            "608      1.0           0          1  ...       108.0             1.0            1\n",
            "\n",
            "[123 rows x 8 columns]\n"
          ],
          "name": "stdout"
        }
      ]
    },
    {
      "cell_type": "code",
      "metadata": {
        "colab": {
          "base_uri": "https://localhost:8080/"
        },
        "id": "bmaNH1xE8a9o",
        "outputId": "77d091f9-013e-4419-b1cb-65408cee1d53"
      },
      "source": [
        "y_test=x_test.pop('Loan_Status')\n",
        "y_train=x_train.pop('Loan_Status')\n",
        "\n",
        "print(y_train)\n",
        "print(y_test)"
      ],
      "execution_count": 93,
      "outputs": [
        {
          "output_type": "stream",
          "text": [
            "454    1\n",
            "52     0\n",
            "536    1\n",
            "469    0\n",
            "55     1\n",
            "      ..\n",
            "451    1\n",
            "260    1\n",
            "352    1\n",
            "270    1\n",
            "317    1\n",
            "Name: Loan_Status, Length: 491, dtype: int64\n",
            "3      1\n",
            "9      0\n",
            "11     1\n",
            "19     1\n",
            "23     0\n",
            "      ..\n",
            "586    1\n",
            "594    1\n",
            "599    1\n",
            "600    0\n",
            "608    1\n",
            "Name: Loan_Status, Length: 123, dtype: int64\n"
          ],
          "name": "stdout"
        }
      ]
    },
    {
      "cell_type": "markdown",
      "metadata": {
        "id": "SP8EloUO81pl"
      },
      "source": [
        "# Problem statement \n",
        "\n",
        "\n",
        "create a classification model to pridict loan will get passed or not"
      ]
    },
    {
      "cell_type": "code",
      "metadata": {
        "id": "Tqqd2P0a8wwN"
      },
      "source": [
        "from sklearn.linear_model import LogisticRegression"
      ],
      "execution_count": 94,
      "outputs": []
    },
    {
      "cell_type": "code",
      "metadata": {
        "id": "ZJGgefEw-5QX"
      },
      "source": [
        "classifier = LogisticRegression(random_state=0,solver='liblinear')\n",
        "classifier = classifier.fit(x_train,y_train)"
      ],
      "execution_count": 95,
      "outputs": []
    },
    {
      "cell_type": "code",
      "metadata": {
        "id": "VjWfj8j-_N0b"
      },
      "source": [
        "y_train_pred= classifier.predict(x_train)"
      ],
      "execution_count": 96,
      "outputs": []
    },
    {
      "cell_type": "code",
      "metadata": {
        "id": "8QeyTlc-_cdI"
      },
      "source": [
        "y_test_pred= classifier.predict(x_test)"
      ],
      "execution_count": 97,
      "outputs": []
    },
    {
      "cell_type": "code",
      "metadata": {
        "id": "A_pv3PFJ_h3L"
      },
      "source": [
        "from sklearn.metrics import confusion_matrix\n",
        "cm_train = confusion_matrix(y_train,y_train_pred)\n",
        "cm_test = confusion_matrix(y_test,y_test_pred)"
      ],
      "execution_count": 98,
      "outputs": []
    },
    {
      "cell_type": "code",
      "metadata": {
        "id": "zU9iKaJt_mnI"
      },
      "source": [
        ""
      ],
      "execution_count": 101,
      "outputs": []
    },
    {
      "cell_type": "code",
      "metadata": {
        "id": "kfzsCyj3__4U"
      },
      "source": [
        "def predPlot(labels, preds):\n",
        "  plt.scatter(labels, preds)\n",
        "  plt.xlabel('True-Values/Labels')\n",
        "  plt.ylabel('Predicted-Values')\n",
        "  plt.axis('equal')\n",
        "  plt.axis('square')\n",
        "  #plt.xlim([0,plt.xlim()[1]])\n",
        "  #plt.ylim([0,plt.ylim()[1]])\n",
        "  #plt.plot([-100,100],[-100,100])\n",
        "  plt.show()"
      ],
      "execution_count": 103,
      "outputs": []
    },
    {
      "cell_type": "code",
      "metadata": {
        "colab": {
          "base_uri": "https://localhost:8080/",
          "height": 361
        },
        "id": "T1OCgXHYC0ZM",
        "outputId": "9859add3-bb07-473b-d917-15cdb66490b4"
      },
      "source": [
        "predPlot(y_test,y_test_pred)"
      ],
      "execution_count": 104,
      "outputs": [
        {
          "output_type": "display_data",
          "data": {
            "image/png": "[encoded data removed]",
            "text/plain": [
              "<Figure size 576x396 with 1 Axes>"
            ]
          },
          "metadata": {
            "tags": []
          }
        }
      ]
    },
    {
      "cell_type": "code",
      "metadata": {
        "id": "D85Trly-DJWj"
      },
      "source": [
        "from sklearn.metrics import accuracy_score"
      ],
      "execution_count": 105,
      "outputs": []
    },
    {
      "cell_type": "markdown",
      "metadata": {
        "id": "JALvYd9tD9X9"
      },
      "source": [
        "#accuracy of our model "
      ]
    },
    {
      "cell_type": "code",
      "metadata": {
        "colab": {
          "base_uri": "https://localhost:8080/"
        },
        "id": "JC0wTcdPDs53",
        "outputId": "9a3ef23a-406e-4521-f856-f5140d194c06"
      },
      "source": [
        " accuracy_score(y_test, y_test_pred)"
      ],
      "execution_count": 106,
      "outputs": [
        {
          "output_type": "execute_result",
          "data": {
            "text/plain": [
              "0.7317073170731707"
            ]
          },
          "metadata": {
            "tags": []
          },
          "execution_count": 106
        }
      ]
    },
    {
      "cell_type": "code",
      "metadata": {
        "id": "GNLtFg47D0wD"
      },
      "source": [
        ""
      ],
      "execution_count": null,
      "outputs": []
    }
  ]
}